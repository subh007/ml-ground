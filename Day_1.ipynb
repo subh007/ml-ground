{
  "nbformat": 4,
  "nbformat_minor": 0,
  "metadata": {
    "colab": {
      "provenance": [],
      "authorship_tag": "ABX9TyMuf0ZwFv9x587Z63FPnz35",
      "include_colab_link": true
    },
    "kernelspec": {
      "name": "python3",
      "display_name": "Python 3"
    },
    "language_info": {
      "name": "python"
    }
  },
  "cells": [
    {
      "cell_type": "markdown",
      "metadata": {
        "id": "view-in-github",
        "colab_type": "text"
      },
      "source": [
        "<a href=\"https://colab.research.google.com/github/subh007/ml-ground/blob/main/Day_1.ipynb\" target=\"_parent\"><img src=\"https://colab.research.google.com/assets/colab-badge.svg\" alt=\"Open In Colab\"/></a>"
      ]
    },
    {
      "cell_type": "code",
      "execution_count": 42,
      "metadata": {
        "colab": {
          "base_uri": "https://localhost:8080/"
        },
        "id": "M1hEDZRZJgL6",
        "outputId": "cc1855ec-f87d-4ef8-c1fa-8cbd709563fa"
      },
      "outputs": [
        {
          "output_type": "stream",
          "name": "stdout",
          "text": [
            "Requirement already satisfied: tensorflow in /usr/local/lib/python3.11/dist-packages (2.18.0)\n",
            "Requirement already satisfied: absl-py>=1.0.0 in /usr/local/lib/python3.11/dist-packages (from tensorflow) (1.4.0)\n",
            "Requirement already satisfied: astunparse>=1.6.0 in /usr/local/lib/python3.11/dist-packages (from tensorflow) (1.6.3)\n",
            "Requirement already satisfied: flatbuffers>=24.3.25 in /usr/local/lib/python3.11/dist-packages (from tensorflow) (25.1.24)\n",
            "Requirement already satisfied: gast!=0.5.0,!=0.5.1,!=0.5.2,>=0.2.1 in /usr/local/lib/python3.11/dist-packages (from tensorflow) (0.6.0)\n",
            "Requirement already satisfied: google-pasta>=0.1.1 in /usr/local/lib/python3.11/dist-packages (from tensorflow) (0.2.0)\n",
            "Requirement already satisfied: libclang>=13.0.0 in /usr/local/lib/python3.11/dist-packages (from tensorflow) (18.1.1)\n",
            "Requirement already satisfied: opt-einsum>=2.3.2 in /usr/local/lib/python3.11/dist-packages (from tensorflow) (3.4.0)\n",
            "Requirement already satisfied: packaging in /usr/local/lib/python3.11/dist-packages (from tensorflow) (24.2)\n",
            "Requirement already satisfied: protobuf!=4.21.0,!=4.21.1,!=4.21.2,!=4.21.3,!=4.21.4,!=4.21.5,<6.0.0dev,>=3.20.3 in /usr/local/lib/python3.11/dist-packages (from tensorflow) (4.25.6)\n",
            "Requirement already satisfied: requests<3,>=2.21.0 in /usr/local/lib/python3.11/dist-packages (from tensorflow) (2.32.3)\n",
            "Requirement already satisfied: setuptools in /usr/local/lib/python3.11/dist-packages (from tensorflow) (75.1.0)\n",
            "Requirement already satisfied: six>=1.12.0 in /usr/local/lib/python3.11/dist-packages (from tensorflow) (1.17.0)\n",
            "Requirement already satisfied: termcolor>=1.1.0 in /usr/local/lib/python3.11/dist-packages (from tensorflow) (2.5.0)\n",
            "Requirement already satisfied: typing-extensions>=3.6.6 in /usr/local/lib/python3.11/dist-packages (from tensorflow) (4.12.2)\n",
            "Requirement already satisfied: wrapt>=1.11.0 in /usr/local/lib/python3.11/dist-packages (from tensorflow) (1.17.2)\n",
            "Requirement already satisfied: grpcio<2.0,>=1.24.3 in /usr/local/lib/python3.11/dist-packages (from tensorflow) (1.70.0)\n",
            "Requirement already satisfied: tensorboard<2.19,>=2.18 in /usr/local/lib/python3.11/dist-packages (from tensorflow) (2.18.0)\n",
            "Requirement already satisfied: keras>=3.5.0 in /usr/local/lib/python3.11/dist-packages (from tensorflow) (3.8.0)\n",
            "Requirement already satisfied: numpy<2.1.0,>=1.26.0 in /usr/local/lib/python3.11/dist-packages (from tensorflow) (1.26.4)\n",
            "Requirement already satisfied: h5py>=3.11.0 in /usr/local/lib/python3.11/dist-packages (from tensorflow) (3.12.1)\n",
            "Requirement already satisfied: ml-dtypes<0.5.0,>=0.4.0 in /usr/local/lib/python3.11/dist-packages (from tensorflow) (0.4.1)\n",
            "Requirement already satisfied: tensorflow-io-gcs-filesystem>=0.23.1 in /usr/local/lib/python3.11/dist-packages (from tensorflow) (0.37.1)\n",
            "Requirement already satisfied: wheel<1.0,>=0.23.0 in /usr/local/lib/python3.11/dist-packages (from astunparse>=1.6.0->tensorflow) (0.45.1)\n",
            "Requirement already satisfied: rich in /usr/local/lib/python3.11/dist-packages (from keras>=3.5.0->tensorflow) (13.9.4)\n",
            "Requirement already satisfied: namex in /usr/local/lib/python3.11/dist-packages (from keras>=3.5.0->tensorflow) (0.0.8)\n",
            "Requirement already satisfied: optree in /usr/local/lib/python3.11/dist-packages (from keras>=3.5.0->tensorflow) (0.14.0)\n",
            "Requirement already satisfied: charset-normalizer<4,>=2 in /usr/local/lib/python3.11/dist-packages (from requests<3,>=2.21.0->tensorflow) (3.4.1)\n",
            "Requirement already satisfied: idna<4,>=2.5 in /usr/local/lib/python3.11/dist-packages (from requests<3,>=2.21.0->tensorflow) (3.10)\n",
            "Requirement already satisfied: urllib3<3,>=1.21.1 in /usr/local/lib/python3.11/dist-packages (from requests<3,>=2.21.0->tensorflow) (2.3.0)\n",
            "Requirement already satisfied: certifi>=2017.4.17 in /usr/local/lib/python3.11/dist-packages (from requests<3,>=2.21.0->tensorflow) (2024.12.14)\n",
            "Requirement already satisfied: markdown>=2.6.8 in /usr/local/lib/python3.11/dist-packages (from tensorboard<2.19,>=2.18->tensorflow) (3.7)\n",
            "Requirement already satisfied: tensorboard-data-server<0.8.0,>=0.7.0 in /usr/local/lib/python3.11/dist-packages (from tensorboard<2.19,>=2.18->tensorflow) (0.7.2)\n",
            "Requirement already satisfied: werkzeug>=1.0.1 in /usr/local/lib/python3.11/dist-packages (from tensorboard<2.19,>=2.18->tensorflow) (3.1.3)\n",
            "Requirement already satisfied: MarkupSafe>=2.1.1 in /usr/local/lib/python3.11/dist-packages (from werkzeug>=1.0.1->tensorboard<2.19,>=2.18->tensorflow) (3.0.2)\n",
            "Requirement already satisfied: markdown-it-py>=2.2.0 in /usr/local/lib/python3.11/dist-packages (from rich->keras>=3.5.0->tensorflow) (3.0.0)\n",
            "Requirement already satisfied: pygments<3.0.0,>=2.13.0 in /usr/local/lib/python3.11/dist-packages (from rich->keras>=3.5.0->tensorflow) (2.18.0)\n",
            "Requirement already satisfied: mdurl~=0.1 in /usr/local/lib/python3.11/dist-packages (from markdown-it-py>=2.2.0->rich->keras>=3.5.0->tensorflow) (0.1.2)\n"
          ]
        }
      ],
      "source": [
        "!pip install tensorflow"
      ]
    },
    {
      "cell_type": "code",
      "source": [
        "import tensorflow as tf"
      ],
      "metadata": {
        "id": "f-xIhSgKJ7wB"
      },
      "execution_count": 43,
      "outputs": []
    },
    {
      "cell_type": "code",
      "source": [
        "(train_x, train_y), (test_X, test_Y) = tf.keras.datasets.boston_housing.load_data(test_split=0)"
      ],
      "metadata": {
        "id": "YAzxo3IjTbjz"
      },
      "execution_count": 44,
      "outputs": []
    },
    {
      "cell_type": "code",
      "source": [],
      "metadata": {
        "id": "wyQF98ZfBxZ5"
      },
      "execution_count": 44,
      "outputs": []
    },
    {
      "cell_type": "code",
      "source": [
        "type(train_x)"
      ],
      "metadata": {
        "colab": {
          "base_uri": "https://localhost:8080/"
        },
        "id": "gPtr6w71aIzr",
        "outputId": "5537f848-e528-4c82-e422-0888553d17ba"
      },
      "execution_count": 45,
      "outputs": [
        {
          "output_type": "execute_result",
          "data": {
            "text/plain": [
              "numpy.ndarray"
            ]
          },
          "metadata": {},
          "execution_count": 45
        }
      ]
    },
    {
      "cell_type": "code",
      "source": [
        "train_x.shape"
      ],
      "metadata": {
        "colab": {
          "base_uri": "https://localhost:8080/"
        },
        "id": "UkUQk9efbLx1",
        "outputId": "0dae822f-92eb-409d-e2ba-6673708eade7"
      },
      "execution_count": 46,
      "outputs": [
        {
          "output_type": "execute_result",
          "data": {
            "text/plain": [
              "(506, 13)"
            ]
          },
          "metadata": {},
          "execution_count": 46
        }
      ]
    },
    {
      "cell_type": "code",
      "source": [
        "train_x"
      ],
      "metadata": {
        "colab": {
          "base_uri": "https://localhost:8080/"
        },
        "id": "a4om0HBFbTl8",
        "outputId": "92737a25-a0fb-4e9a-d995-9e73754ab194"
      },
      "execution_count": 47,
      "outputs": [
        {
          "output_type": "execute_result",
          "data": {
            "text/plain": [
              "array([[1.23247e+00, 0.00000e+00, 8.14000e+00, ..., 2.10000e+01,\n",
              "        3.96900e+02, 1.87200e+01],\n",
              "       [2.17700e-02, 8.25000e+01, 2.03000e+00, ..., 1.47000e+01,\n",
              "        3.95380e+02, 3.11000e+00],\n",
              "       [4.89822e+00, 0.00000e+00, 1.81000e+01, ..., 2.02000e+01,\n",
              "        3.75520e+02, 3.26000e+00],\n",
              "       ...,\n",
              "       [1.83377e+00, 0.00000e+00, 1.95800e+01, ..., 1.47000e+01,\n",
              "        3.89610e+02, 1.92000e+00],\n",
              "       [3.58090e-01, 0.00000e+00, 6.20000e+00, ..., 1.74000e+01,\n",
              "        3.91700e+02, 9.71000e+00],\n",
              "       [2.92400e+00, 0.00000e+00, 1.95800e+01, ..., 1.47000e+01,\n",
              "        2.40160e+02, 9.81000e+00]])"
            ]
          },
          "metadata": {},
          "execution_count": 47
        }
      ]
    },
    {
      "cell_type": "code",
      "source": [
        "train_x.dtype"
      ],
      "metadata": {
        "colab": {
          "base_uri": "https://localhost:8080/"
        },
        "id": "UJN6R4_DbbKw",
        "outputId": "246e5b77-f62d-40b6-9528-02075d4d8d1a"
      },
      "execution_count": 48,
      "outputs": [
        {
          "output_type": "execute_result",
          "data": {
            "text/plain": [
              "dtype('float64')"
            ]
          },
          "metadata": {},
          "execution_count": 48
        }
      ]
    },
    {
      "cell_type": "code",
      "source": [
        "train_x = train_x.astype('float32')\n",
        "train_y = train_y.astype('float32')"
      ],
      "metadata": {
        "id": "OVpV9c5xfWyS"
      },
      "execution_count": 49,
      "outputs": []
    },
    {
      "cell_type": "code",
      "source": [
        "w = tf.Variable(tf.random.normal(shape=(13, 1)))"
      ],
      "metadata": {
        "id": "fHNSedPxbhk1"
      },
      "execution_count": 50,
      "outputs": []
    },
    {
      "cell_type": "code",
      "source": [
        "b = tf.Variable(tf.random.normal(shape=(1,)))"
      ],
      "metadata": {
        "id": "nQ1czV6IdBHs"
      },
      "execution_count": 51,
      "outputs": []
    },
    {
      "cell_type": "code",
      "source": [
        "def predict(X, w, b):\n",
        "  return tf.add(tf.matmul(X, w), b)\n"
      ],
      "metadata": {
        "id": "4-pUL0DOdHEa"
      },
      "execution_count": 52,
      "outputs": []
    },
    {
      "cell_type": "code",
      "source": [
        "train_y.shape"
      ],
      "metadata": {
        "colab": {
          "base_uri": "https://localhost:8080/"
        },
        "id": "Nfc2WidLhQ1H",
        "outputId": "3750aaa1-1198-49c9-d819-3b196f63754e"
      },
      "execution_count": 53,
      "outputs": [
        {
          "output_type": "execute_result",
          "data": {
            "text/plain": [
              "(506,)"
            ]
          },
          "metadata": {},
          "execution_count": 53
        }
      ]
    },
    {
      "cell_type": "code",
      "source": [
        "def calculate_loss(Y, Y_hat):\n",
        "  return tf.reduce_mean(tf.square(Y_hat - Y))"
      ],
      "metadata": {
        "id": "vUeZONH6grTQ"
      },
      "execution_count": 59,
      "outputs": []
    },
    {
      "cell_type": "code",
      "source": [
        "def train(X, Y, w, b, learning_rate=0.01):\n",
        "  with tf.GradientTape() as tape:\n",
        "    tape.watch([w, b])\n",
        "    predictions = predict(X, w, b)\n",
        "    cost = calculate_loss(Y, predictions)\n",
        "  dw, db = tape.gradient(cost, [w, b])\n",
        "  w = w - learning_rate * dw\n",
        "  b = b - learning_rate * db\n",
        "  return w, b"
      ],
      "metadata": {
        "id": "Txs0fVtCoYzK"
      },
      "execution_count": 60,
      "outputs": []
    },
    {
      "cell_type": "code",
      "source": [
        "predictions = predict(train_x, w, b)"
      ],
      "metadata": {
        "id": "YAimp-KKPCZ3"
      },
      "execution_count": 56,
      "outputs": []
    },
    {
      "cell_type": "code",
      "source": [
        "tf.reduce_mean(tf.square(predictions - train_y))"
      ],
      "metadata": {
        "id": "VNcT5zS9PSfO",
        "outputId": "c74f92c6-3f6d-4ef6-d7c8-34d252e324ae",
        "colab": {
          "base_uri": "https://localhost:8080/"
        }
      },
      "execution_count": 57,
      "outputs": [
        {
          "output_type": "execute_result",
          "data": {
            "text/plain": [
              "<tf.Tensor: shape=(), dtype=float32, numpy=78228.484375>"
            ]
          },
          "metadata": {},
          "execution_count": 57
        }
      ]
    },
    {
      "cell_type": "code",
      "source": [
        "for i in range(100):\n",
        "  w, b = train(train_x, train_y, w, b)\n",
        "  predictions = predict(train_x, w, b)\n",
        "  loss = calculate_loss(train_y, predictions)\n",
        "  print(f'interation: {i} loss: {loss}')"
      ],
      "metadata": {
        "id": "gPpe1_5kwe1D",
        "outputId": "83f43510-d06a-4084-e275-677505746cb6",
        "colab": {
          "base_uri": "https://localhost:8080/"
        }
      },
      "execution_count": 61,
      "outputs": [
        {
          "output_type": "stream",
          "name": "stdout",
          "text": [
            "interation: 0 loss: 9.94549081195015e+19\n",
            "interation: 1 loss: 3.8965892775468343e+27\n",
            "interation: 2 loss: inf\n",
            "interation: 3 loss: inf\n",
            "interation: 4 loss: inf\n",
            "interation: 5 loss: inf\n",
            "interation: 6 loss: inf\n",
            "interation: 7 loss: inf\n",
            "interation: 8 loss: inf\n",
            "interation: 9 loss: nan\n",
            "interation: 10 loss: nan\n",
            "interation: 11 loss: nan\n",
            "interation: 12 loss: nan\n",
            "interation: 13 loss: nan\n",
            "interation: 14 loss: nan\n",
            "interation: 15 loss: nan\n",
            "interation: 16 loss: nan\n",
            "interation: 17 loss: nan\n",
            "interation: 18 loss: nan\n",
            "interation: 19 loss: nan\n",
            "interation: 20 loss: nan\n",
            "interation: 21 loss: nan\n",
            "interation: 22 loss: nan\n",
            "interation: 23 loss: nan\n",
            "interation: 24 loss: nan\n",
            "interation: 25 loss: nan\n",
            "interation: 26 loss: nan\n",
            "interation: 27 loss: nan\n",
            "interation: 28 loss: nan\n",
            "interation: 29 loss: nan\n",
            "interation: 30 loss: nan\n",
            "interation: 31 loss: nan\n",
            "interation: 32 loss: nan\n",
            "interation: 33 loss: nan\n",
            "interation: 34 loss: nan\n",
            "interation: 35 loss: nan\n",
            "interation: 36 loss: nan\n",
            "interation: 37 loss: nan\n",
            "interation: 38 loss: nan\n",
            "interation: 39 loss: nan\n",
            "interation: 40 loss: nan\n",
            "interation: 41 loss: nan\n",
            "interation: 42 loss: nan\n",
            "interation: 43 loss: nan\n",
            "interation: 44 loss: nan\n",
            "interation: 45 loss: nan\n",
            "interation: 46 loss: nan\n",
            "interation: 47 loss: nan\n",
            "interation: 48 loss: nan\n",
            "interation: 49 loss: nan\n",
            "interation: 50 loss: nan\n",
            "interation: 51 loss: nan\n",
            "interation: 52 loss: nan\n",
            "interation: 53 loss: nan\n",
            "interation: 54 loss: nan\n",
            "interation: 55 loss: nan\n",
            "interation: 56 loss: nan\n",
            "interation: 57 loss: nan\n",
            "interation: 58 loss: nan\n",
            "interation: 59 loss: nan\n",
            "interation: 60 loss: nan\n",
            "interation: 61 loss: nan\n",
            "interation: 62 loss: nan\n",
            "interation: 63 loss: nan\n",
            "interation: 64 loss: nan\n",
            "interation: 65 loss: nan\n",
            "interation: 66 loss: nan\n",
            "interation: 67 loss: nan\n",
            "interation: 68 loss: nan\n",
            "interation: 69 loss: nan\n",
            "interation: 70 loss: nan\n",
            "interation: 71 loss: nan\n",
            "interation: 72 loss: nan\n",
            "interation: 73 loss: nan\n",
            "interation: 74 loss: nan\n",
            "interation: 75 loss: nan\n",
            "interation: 76 loss: nan\n",
            "interation: 77 loss: nan\n",
            "interation: 78 loss: nan\n",
            "interation: 79 loss: nan\n",
            "interation: 80 loss: nan\n",
            "interation: 81 loss: nan\n",
            "interation: 82 loss: nan\n",
            "interation: 83 loss: nan\n",
            "interation: 84 loss: nan\n",
            "interation: 85 loss: nan\n",
            "interation: 86 loss: nan\n",
            "interation: 87 loss: nan\n",
            "interation: 88 loss: nan\n",
            "interation: 89 loss: nan\n",
            "interation: 90 loss: nan\n",
            "interation: 91 loss: nan\n",
            "interation: 92 loss: nan\n",
            "interation: 93 loss: nan\n",
            "interation: 94 loss: nan\n",
            "interation: 95 loss: nan\n",
            "interation: 96 loss: nan\n",
            "interation: 97 loss: nan\n",
            "interation: 98 loss: nan\n",
            "interation: 99 loss: nan\n"
          ]
        }
      ]
    },
    {
      "cell_type": "code",
      "source": [
        "print(f'{b}')"
      ],
      "metadata": {
        "id": "FGfu35xXSAh9",
        "outputId": "f3071492-4483-4fb7-a4a3-8d46d03c5f25",
        "colab": {
          "base_uri": "https://localhost:8080/"
        }
      },
      "execution_count": 62,
      "outputs": [
        {
          "output_type": "stream",
          "name": "stdout",
          "text": [
            "[nan]\n"
          ]
        }
      ]
    }
  ]
}